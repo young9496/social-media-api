{
  "nbformat": 4,
  "nbformat_minor": 0,
  "metadata": {
    "colab": {
      "provenance": [],
      "authorship_tag": "ABX9TyPZjuMccUKSMNaF9v0aK0Yg",
      "include_colab_link": true
    },
    "kernelspec": {
      "name": "python3",
      "display_name": "Python 3"
    },
    "language_info": {
      "name": "python"
    }
  },
  "cells": [
    {
      "cell_type": "markdown",
      "metadata": {
        "id": "view-in-github",
        "colab_type": "text"
      },
      "source": [
        "<a href=\"https://colab.research.google.com/github/young9496/social-media-api/blob/main/Untitled7.ipynb\" target=\"_parent\"><img src=\"https://colab.research.google.com/assets/colab-badge.svg\" alt=\"Open In Colab\"/></a>"
      ]
    },
    {
      "cell_type": "code",
      "execution_count": 35,
      "metadata": {
        "colab": {
          "base_uri": "https://localhost:8080/"
        },
        "id": "XSG2Pp98t7gS",
        "outputId": "ee187b22-ace9-477b-9481-4dfb62c34ad6"
      },
      "outputs": [
        {
          "output_type": "stream",
          "name": "stdout",
          "text": [
            "Exam Scores Array:\n",
            "[[44 47 64]\n",
            " [67 67  9]\n",
            " [83 21 36]\n",
            " [87 70 88]\n",
            " [88 12 58]]\n",
            "\n",
            "Array Shape: (5, 3)\n",
            "Scores for Jenny: [88 12 58]\n",
            "Score for Jane in Science: 67\n"
          ]
        }
      ],
      "source": [
        "#Question 1\n",
        "import numpy as np\n",
        "import pandas as pd\n",
        "\n",
        "np.random.seed(0)\n",
        "\n",
        "num_students = 5\n",
        "num_subjects = 3\n",
        "\n",
        "exam_scores = np.random.randint(0, 101, size=(num_students, num_subjects))\n",
        "\n",
        "student_names = ['John', 'Jane', 'Alvin', 'Vincent', 'Jenny']\n",
        "subject_names = ['Math', 'Science', 'English']\n",
        "\n",
        "print(\"Exam Scores Array:\")\n",
        "print(exam_scores)\n",
        "print(\"\\nArray Shape:\", exam_scores.shape)\n",
        "print(\"Scores for Jenny:\", exam_scores[4])\n",
        "print(\"Score for Jane in Science:\", exam_scores[1, 1])"
      ]
    },
    {
      "cell_type": "code",
      "source": [
        "#Question 2\n",
        "import numpy as np\n",
        "import matplotlib.pyplot as plt\n",
        "from scipy import stats\n",
        "\n",
        "# Step 1: Simulate customer feedback ratings\n",
        "def generate_feedback_ratings(num_ratings=1000):\n",
        "    return np.random.randint(1, 6, size=num_ratings)\n",
        "\n",
        "# Step 2: Compute the average feedback score\n",
        "def compute_average(ratings):\n",
        "    return np.mean(ratings)\n",
        "\n",
        "# Step 3: Determine the mode of the ratings\n",
        "def compute_mode(ratings):\n",
        "    mode_result = stats.mode(ratings, keepdims=False)\n",
        "    return mode_result.mode if np.isscalar(mode_result.mode) else mode_result.mode[0]\n",
        "\n",
        "\n",
        "# Step 4: Compute the median of the ratings\n",
        "def compute_median(ratings):\n",
        "    return np.median(ratings)\n",
        "\n",
        "# Step 5: Compute the standard deviation of the ratings\n",
        "def compute_std_deviation(ratings):\n",
        "    return np.std(ratings)\n",
        "\n",
        "# Step 6: Visualize the ratings by plotting a histogram\n",
        "def plot_histogram(ratings):\n",
        "  plt.hist(ratings, bins=np.arange(1, 7) - 0.5, edgecolor='black', rwidth=0.8)\n",
        "  plt.title(\"Customer Feedback Ratings\")\n",
        "  plt.xlabel(\"Rating\")\n",
        "  plt.ylabel(\"Frequency\")\n",
        "  rating_labels = ['1 (awful)', '2 (bad)', '3 (neutral)', '4 (good)', '5 (excellent)']\n",
        "  plt.xticks(ticks=range(1, 6), labels=rating_labels)\n",
        "  plt.show()\n",
        "\n",
        "# Main function to run all tasks\n",
        "def main():\n",
        "    # Generate 1000 random ratings\n",
        "    ratings = generate_feedback_ratings()\n",
        "\n",
        "    # Compute and print the statistics\n",
        "    avg_score = compute_average(ratings)\n",
        "    mode_score = compute_mode(ratings)\n",
        "    median_score = compute_median(ratings)\n",
        "    std_dev = compute_std_deviation(ratings)\n",
        "\n",
        "    print(f\"Average Feedback Score: {avg_score:.2f}\")\n",
        "    print(f\"Mode of Ratings: {mode_score}\")\n",
        "    print(f\"Median of Ratings: {median_score}\")\n",
        "    print(f\"Standard Deviation of Ratings: {std_dev:.2f}\")\n",
        "\n",
        "    # Plot the histogram\n",
        "    plot_histogram(ratings)\n",
        "\n",
        "# Execute the main function\n",
        "if __name__ == \"__main__\":\n",
        "    main()"
      ],
      "metadata": {
        "colab": {
          "base_uri": "https://localhost:8080/",
          "height": 541
        },
        "id": "VKaIlqNBzMh5",
        "outputId": "5918ed0c-5bab-460b-fb9d-ea198a8ffc03"
      },
      "execution_count": 52,
      "outputs": [
        {
          "output_type": "stream",
          "name": "stdout",
          "text": [
            "Average Feedback Score: 2.90\n",
            "Mode of Ratings: 1\n",
            "Median of Ratings: 3.0\n",
            "Standard Deviation of Ratings: 1.45\n"
          ]
        },
        {
          "output_type": "display_data",
          "data": {
            "text/plain": [
              "<Figure size 640x480 with 1 Axes>"
            ],
            "image/png": "[encoded data removed]"
          },
          "metadata": {}
        }
      ]
    },
    {
      "cell_type": "code",
      "source": [
        "def create_rating_table(ratings):\n",
        "    feedback_words = {\n",
        "        1: \"awful\",\n",
        "        2: \"bad\",\n",
        "        3: \"neutral\",\n",
        "        4: \"good\",\n",
        "        5: \"excellent\"\n",
        "    }\n",
        "    unique, counts = np.unique(ratings, return_counts=True)\n",
        "    frequencies = dict(zip(unique, counts))\n",
        "\n",
        "    # Create a DataFrame for display\n",
        "    data = {\n",
        "        \"Rating\": [feedback_words[rating] for rating in range(1, 6)],\n",
        "        \"Count\": [frequencies.get(rating, 0) for rating in range(1, 6)]\n",
        "    }\n",
        "    df = pd.DataFrame(data)\n",
        "    print(\"\\nRating Frequencies Table:\")\n",
        "    print(df.to_string(index=False))\n",
        "\n",
        "# Main function to run all tasks\n",
        "def main():\n",
        "    # Generate 1000 random ratings\n",
        "    ratings = generate_feedback_ratings()\n",
        "\n",
        "    # Compute and print the statistics\n",
        "    avg_score = compute_average(ratings)\n",
        "    mode_score = compute_mode(ratings)\n",
        "    median_score = compute_median(ratings)\n",
        "    std_dev = compute_std_deviation(ratings)\n",
        "\n",
        "    print(f\"Average Feedback Score: {avg_score:.2f}\")\n",
        "    print(f\"Mode of Ratings: {mode_score}\")\n",
        "    print(f\"Median of Ratings: {median_score}\")\n",
        "    print(f\"Standard Deviation of Ratings: {std_dev:.2f}\")\n",
        "\n",
        "    # Plot the histogram\n",
        "    plot_histogram(ratings)\n",
        "\n",
        "# Execute the main function\n",
        "if __name__ == \"__main__\":\n",
        "    main()"
      ],
      "metadata": {
        "colab": {
          "base_uri": "https://localhost:8080/",
          "height": 541
        },
        "id": "BP8E-cbDNBC4",
        "outputId": "7a6d446a-355b-4cd1-adbe-c7474c588758"
      },
      "execution_count": 55,
      "outputs": [
        {
          "output_type": "stream",
          "name": "stdout",
          "text": [
            "Average Feedback Score: 3.00\n",
            "Mode of Ratings: 4\n",
            "Median of Ratings: 3.0\n",
            "Standard Deviation of Ratings: 1.42\n"
          ]
        },
        {
          "output_type": "display_data",
          "data": {
            "text/plain": [
              "<Figure size 640x480 with 1 Axes>"
            ],
            "image/png": "[encoded data removed]"
          },
          "metadata": {}
        }
      ]
    },
    {
      "cell_type": "code",
      "source": [
        "#Question 3\n",
        "import numpy as np\n",
        "import pandas as pd\n",
        "\n",
        "np.random.seed(0)\n",
        "\n",
        "num_students = 5\n",
        "num_subjects = 3\n",
        "\n",
        "exam_scores = np.random.randint(0, 101, size=(num_students, num_subjects))\n",
        "\n",
        "student_names = ['John', 'Jane', 'Alvin', 'Vincent', 'Jenny']\n",
        "subject_names = ['Math', 'Science', 'English']\n",
        "\n",
        "print(\"Exam Scores Array:\")\n",
        "print(exam_scores)\n",
        "print(\"\\nArray Shape:\", exam_scores.shape)\n",
        "print(\"Scores for Jenny:\", exam_scores[4])\n",
        "print(\"Score for Jane in Science:\", exam_scores[1, 1])\n",
        "\n",
        "#Task 1:Transform NumPy Array into a Pandas DataFrame\n",
        "scores_df = pd.DataFrame(exam_scores.T, index=subject_names, columns=student_names)\n",
        "print(\"\\nExam Scores DataFrame:\")\n",
        "print(scores_df)\n",
        "\n",
        "#Task 2:Find the average score of each student for every Final Exam.\n",
        "scores_df = pd.DataFrame(exam_scores.T, index=subject_names, columns=student_names)\n",
        "student_averages = scores_df.mean(axis=0)\n",
        "print(\"\\nAverage Score of Each Student:\")\n",
        "print(student_averages)"
      ],
      "metadata": {
        "colab": {
          "base_uri": "https://localhost:8080/"
        },
        "id": "OpN_YKfoF0FW",
        "outputId": "6ab75d97-7bac-49fe-b997-6d20e3b87447"
      },
      "execution_count": 44,
      "outputs": [
        {
          "output_type": "stream",
          "name": "stdout",
          "text": [
            "Exam Scores Array:\n",
            "[[44 47 64]\n",
            " [67 67  9]\n",
            " [83 21 36]\n",
            " [87 70 88]\n",
            " [88 12 58]]\n",
            "\n",
            "Array Shape: (5, 3)\n",
            "Scores for Jenny: [88 12 58]\n",
            "Score for Jane in Science: 67\n",
            "\n",
            "Exam Scores DataFrame:\n",
            "         John  Jane  Alvin  Vincent  Jenny\n",
            "Math       44    67     83       87     88\n",
            "Science    47    67     21       70     12\n",
            "English    64     9     36       88     58\n",
            "\n",
            "Average Score of Each Student:\n",
            "John       51.666667\n",
            "Jane       47.666667\n",
            "Alvin      46.666667\n",
            "Vincent    81.666667\n",
            "Jenny      52.666667\n",
            "dtype: float64\n"
          ]
        }
      ]
    },
    {
      "cell_type": "code",
      "source": [
        "#Question 3\n",
        "import numpy as np\n",
        "import pandas as pd\n",
        "\n",
        "np.random.seed(0)\n",
        "\n",
        "num_students = 5\n",
        "num_subjects = 3\n",
        "\n",
        "exam_scores = np.random.randint(0, 101, size=(num_students, num_subjects))\n",
        "\n",
        "student_names = ['John', 'Jane', 'Alvin', 'Vincent', 'Jenny']\n",
        "subject_names = ['Math', 'Science', 'English']\n",
        "\n",
        "print(\"Exam Scores Array:\")\n",
        "print(exam_scores)\n",
        "print(\"\\nArray Shape:\", exam_scores.shape)\n",
        "print(\"Scores for Jenny:\", exam_scores[4])\n",
        "print(\"Score for Jane in Science:\", exam_scores[1, 1])\n",
        "\n",
        "#Task 3:Calculate the class average for each of the Final Exams conducted\n",
        "scores_df = pd.DataFrame(exam_scores.T, index=subject_names, columns=student_names)\n",
        "subject_averages = scores_df.mean(axis=1)\n",
        "print(\"\\nClass Average for Each Final Exam Subject:\")\n",
        "print(subject_averages)"
      ],
      "metadata": {
        "colab": {
          "base_uri": "https://localhost:8080/"
        },
        "id": "93666rbQIVKK",
        "outputId": "a35cdbd5-b2bd-4dd3-c28a-38133b02315f"
      },
      "execution_count": 45,
      "outputs": [
        {
          "output_type": "stream",
          "name": "stdout",
          "text": [
            "Exam Scores Array:\n",
            "[[44 47 64]\n",
            " [67 67  9]\n",
            " [83 21 36]\n",
            " [87 70 88]\n",
            " [88 12 58]]\n",
            "\n",
            "Array Shape: (5, 3)\n",
            "Scores for Jenny: [88 12 58]\n",
            "Score for Jane in Science: 67\n",
            "\n",
            "Class Average for Each Final Exam Subject:\n",
            "Math       73.8\n",
            "Science    43.4\n",
            "English    51.0\n",
            "dtype: float64\n"
          ]
        }
      ]
    },
    {
      "cell_type": "code",
      "source": [
        "#Question 4\n",
        "from collections import defaultdict\n",
        "\n",
        "sales_data = [\n",
        "    (1, 'Laptop', 1200.00, 50, '2023-06-01'),\n",
        "    (2, 'Smartphone', 800.00, 120, '2023-06-02'),\n",
        "    (3, 'Headphones', 100.00, 300, '2023-06-03'),\n",
        "    (4, 'Tablet', 600.00, 80, '2023-06-04'),\n",
        "    (5, 'Headphones', 100.00, 300, '2023-06-02')\n",
        "]\n",
        "\n",
        "revenue_product = defaultdict(float)\n",
        "qty_product = defaultdict(int)\n",
        "sales_by_date = defaultdict(int)\n",
        "\n",
        "for product_id, name, price, qty, date in sales_data:\n",
        "  revenue = price * qty\n",
        "  revenue_product[name] += revenue\n",
        "  qty_product[name] += qty\n",
        "  sales_by_date[date] += qty\n",
        "\n",
        "print(\"Total Revenue by Product :\")\n",
        "for name , revenue in revenue_product.items():\n",
        "  print(f\"{name} : RM{revenue:.2f}\")\n",
        "\n",
        "product_highest_sold = max(qty_product, key=qty_product.get)\n",
        "print(f\"\\nProduct with Highest Quantity sold:\\n{product_highest_sold} : {qty_product[product_highest_sold]} units\")\n",
        "\n",
        "date_with_highest_sales = max(sales_by_date, key=sales_by_date.get)\n",
        "print(f\"\\nDate with Highest Sales:\\n{date_with_highest_sales} : {sales_by_date[date_with_highest_sales]} units\")"
      ],
      "metadata": {
        "colab": {
          "base_uri": "https://localhost:8080/"
        },
        "id": "JgQI-ojtO3E5",
        "outputId": "4d9e6ea6-5342-42f1-df1a-a375811ced2d"
      },
      "execution_count": 49,
      "outputs": [
        {
          "output_type": "stream",
          "name": "stdout",
          "text": [
            "Total Revenue by Product :\n",
            "Laptop : RM60000.00\n",
            "Smartphone : RM96000.00\n",
            "Headphones : RM60000.00\n",
            "Tablet : RM48000.00\n",
            "\n",
            "Product with Highest Quantity sold:\n",
            "Headphones : 600 units\n",
            "\n",
            "Date with Highest Sales:\n",
            "2023-06-02 : 420 units\n"
          ]
        }
      ]
    }
  ]
}